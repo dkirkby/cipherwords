{
 "cells": [
  {
   "cell_type": "markdown",
   "metadata": {},
   "source": [
    "# CipherWords"
   ]
  },
  {
   "cell_type": "code",
   "execution_count": 1,
   "metadata": {},
   "outputs": [
    {
     "name": "stdout",
     "output_type": "stream",
     "text": [
      "Populating the interactive namespace from numpy and matplotlib\n"
     ]
    }
   ],
   "source": [
    "%pylab inline"
   ]
  },
  {
   "cell_type": "code",
   "execution_count": 2,
   "metadata": {},
   "outputs": [],
   "source": [
    "from pathlib import Path"
   ]
  },
  {
   "cell_type": "code",
   "execution_count": 155,
   "metadata": {},
   "outputs": [],
   "source": [
    "import nltk"
   ]
  },
  {
   "cell_type": "code",
   "execution_count": 156,
   "metadata": {},
   "outputs": [
    {
     "name": "stderr",
     "output_type": "stream",
     "text": [
      "[nltk_data] Downloading package wordnet to /Users/david/nltk_data...\n",
      "[nltk_data]   Package wordnet is already up-to-date!\n"
     ]
    },
    {
     "data": {
      "text/plain": [
       "True"
      ]
     },
     "execution_count": 156,
     "metadata": {},
     "output_type": "execute_result"
    }
   ],
   "source": [
    "nltk.download('wordnet')"
   ]
  },
  {
   "cell_type": "code",
   "execution_count": 175,
   "metadata": {},
   "outputs": [
    {
     "name": "stderr",
     "output_type": "stream",
     "text": [
      "[nltk_data] Downloading package averaged_perceptron_tagger to\n",
      "[nltk_data]     /Users/david/nltk_data...\n",
      "[nltk_data]   Unzipping taggers/averaged_perceptron_tagger.zip.\n"
     ]
    },
    {
     "data": {
      "text/plain": [
       "True"
      ]
     },
     "execution_count": 175,
     "metadata": {},
     "output_type": "execute_result"
    }
   ],
   "source": [
    "nltk.download('averaged_perceptron_tagger')"
   ]
  },
  {
   "cell_type": "code",
   "execution_count": 178,
   "metadata": {},
   "outputs": [
    {
     "name": "stderr",
     "output_type": "stream",
     "text": [
      "[nltk_data] Downloading package universal_tagset to\n",
      "[nltk_data]     /Users/david/nltk_data...\n",
      "[nltk_data]   Unzipping taggers/universal_tagset.zip.\n"
     ]
    },
    {
     "data": {
      "text/plain": [
       "True"
      ]
     },
     "execution_count": 178,
     "metadata": {},
     "output_type": "execute_result"
    }
   ],
   "source": [
    "nltk.download('universal_tagset')"
   ]
  },
  {
   "cell_type": "code",
   "execution_count": 194,
   "metadata": {},
   "outputs": [],
   "source": [
    "wnl = nltk.stem.WordNetLemmatizer()"
   ]
  },
  {
   "cell_type": "code",
   "execution_count": 199,
   "metadata": {},
   "outputs": [],
   "source": [
    "import nltk.corpus"
   ]
  },
  {
   "cell_type": "code",
   "execution_count": 204,
   "metadata": {},
   "outputs": [],
   "source": [
    "stopwords = nltk.corpus.stopwords.words('english')"
   ]
  },
  {
   "cell_type": "markdown",
   "metadata": {},
   "source": [
    "Define the list of keywords to use:"
   ]
  },
  {
   "cell_type": "code",
   "execution_count": 288,
   "metadata": {},
   "outputs": [],
   "source": [
    "K = [w.strip().lower() for w in open('../words.txt')]"
   ]
  },
  {
   "cell_type": "markdown",
   "metadata": {},
   "source": [
    "A few keywords have spaces:"
   ]
  },
  {
   "cell_type": "code",
   "execution_count": 289,
   "metadata": {},
   "outputs": [
    {
     "data": {
      "text/plain": [
       "['ice cream', 'loch ness', 'new york', 'scuba diver']"
      ]
     },
     "execution_count": 289,
     "metadata": {},
     "output_type": "execute_result"
    }
   ],
   "source": [
    "[k for k in K if ' ' in k]"
   ]
  },
  {
   "cell_type": "markdown",
   "metadata": {},
   "source": [
    "These could be implemented as a digram, which adds a lot of complexity for just a few words, or by removing the space, which requires a large enough training corpus to capture correlations with a less common form.  Instead, replace these words. We also replace a few words that have consistently obscure associations:"
   ]
  },
  {
   "cell_type": "code",
   "execution_count": 290,
   "metadata": {},
   "outputs": [],
   "source": [
    "replacements = {\n",
    "    # Compound words\n",
    "    'ice cream': 'meringue',\n",
    "    'loch ness': 'shetland',\n",
    "    'new york': 'boston',\n",
    "    'scuba diver': 'mariner',\n",
    "    # Obscure associations\n",
    "    'dice': 'roll', # dough, esta, hacer (spanish verbs)\n",
    "    'leprechaun': 'jedi', # lovable, humpty, herriot (??)\n",
    "    'straw': 'barley', #minister, secretary, condoleezza (Jack Straw was UK secretary of state)\n",
    "    'undertaker': 'caregiver', # wrestling stuff\n",
    "    'ray': 'lightsaber',\n",
    "    'robin': 'condor',\n",
    "    'angel': 'demon',\n",
    "}\n",
    "K = sorted([replacements.get(k, k) for k in K])"
   ]
  },
  {
   "cell_type": "markdown",
   "metadata": {},
   "source": [
    "Load [word frequencies](https://en.wiktionary.org/wiki/Wiktionary:Frequency_lists) for filtering out obscure words:"
   ]
  },
  {
   "cell_type": "code",
   "execution_count": 114,
   "metadata": {},
   "outputs": [
    {
     "name": "stdout",
     "output_type": "stream",
     "text": [
      "Loaded 1507753 word frequencies from enwiki-20190320-words-frequency.txt\n"
     ]
    }
   ],
   "source": [
    "def load_freqs(filename='enwiki-20190320-words-frequency.txt'):\n",
    "    freqs = {}\n",
    "    wordpat = re.compile('^[a-z]+$')\n",
    "    with open(filename) as f:\n",
    "        for line in f:\n",
    "            word, f = line.split()\n",
    "            if not wordpat.match(word.lower()):\n",
    "                continue\n",
    "            freqs[word.lower()] = float(f)\n",
    "    print(f'Loaded {len(freqs)} word frequencies from {filename}')\n",
    "    return freqs\n",
    "\n",
    "F1 = load_freqs()"
   ]
  },
  {
   "cell_type": "code",
   "execution_count": 115,
   "metadata": {},
   "outputs": [
    {
     "name": "stdout",
     "output_type": "stream",
     "text": [
      "Loaded 1026874 word frequencies from en_full.txt\n"
     ]
    }
   ],
   "source": [
    "F2 = load_freqs('en_full.txt')"
   ]
  },
  {
   "cell_type": "code",
   "execution_count": 116,
   "metadata": {},
   "outputs": [
    {
     "data": {
      "image/png": "[encoded data removed]",
      "text/plain": [
       "<Figure size 432x288 with 1 Axes>"
      ]
     },
     "metadata": {
      "needs_background": "light"
     },
     "output_type": "display_data"
    }
   ],
   "source": [
    "plt.plot(F.values());\n",
    "plt.plot(F2.values());\n",
    "plt.yscale('log');\n",
    "plt.grid();"
   ]
  },
  {
   "cell_type": "markdown",
   "metadata": {},
   "source": [
    "Download word embedding vectors from https://nlp.stanford.edu/projects/glove/"
   ]
  },
  {
   "cell_type": "code",
   "execution_count": 7,
   "metadata": {},
   "outputs": [],
   "source": [
    "GLOVEDIR = Path('/Users/david/Data/Words/GLOVE')\n",
    "assert GLOVEDIR.exists()"
   ]
  },
  {
   "cell_type": "markdown",
   "metadata": {},
   "source": [
    "The training objective of GloVe is to learn word vectors such that their dot product equals the logarithm of the words' probability of co-occurrence."
   ]
  },
  {
   "cell_type": "code",
   "execution_count": 130,
   "metadata": {},
   "outputs": [],
   "source": [
    "class GloveBox:\n",
    "    def __init__(self, filename, ndim):\n",
    "        self.ndim = ndim\n",
    "        self.filename = GLOVEDIR / filename\n",
    "        assert self.filename.exists()\n",
    "    def __enter__(self):\n",
    "        self.f = open(self.filename)\n",
    "        return self\n",
    "    def __exit__(self, *args):\n",
    "        self.f.close()\n",
    "    class Line:\n",
    "        def __init__(self, line, ndim):\n",
    "            self.word, *self.values = line.split()\n",
    "            if len(self.values) != ndim:\n",
    "                raise ValueError(f'Badly formed line with {len(self.values)} values: \"{line}\"')\n",
    "            self._vec = None\n",
    "        @property\n",
    "        def vec(self):\n",
    "            if self._vec is None:\n",
    "                self._vec = np.array([float(val) for val in self.values], np.float32)\n",
    "            return self._vec\n",
    "    def lines(self):\n",
    "        for line in self.f:\n",
    "            try:\n",
    "                yield GloveBox.Line(line, self.ndim)\n",
    "            except ValueError:\n",
    "                pass"
   ]
  },
  {
   "cell_type": "markdown",
   "metadata": {},
   "source": [
    "See below for how this list is constructed..."
   ]
  },
  {
   "cell_type": "code",
   "execution_count": 265,
   "metadata": {},
   "outputs": [],
   "source": [
    "vetos = 'miguel,jose,luis,jah,roy,tom,ken,jenson,canadian,centre,changing,chinese,comedy,odi,dancing,died,pero,una,\\\n",
    "facing,filing,flew,flown,french,greek,uss,himalayan,eh,gyula,ii,suge,zat,living,thing,mexican,bic,los,piracy,racquet,\\\n",
    "andy,jan,kibo,roman,tael,shooting,shoot,sank,km,solana,wwe,teaching,theatre,tying,teeth,turkish,lesnar,orton,oroton,\\\n",
    "debby,whaling,dpp,metre,jimenez,maria,kmt,charlie,showalter,mckeon,sah,ohl,satyajit,robert,joschka,cabrera,chuck,\\\n",
    "shawshank,quasimodo,radin,floyd,gordy,jiabao,persie,nwa,clitoral,lech,iii,nagin,mining,sri,buffy,ruud,juan,hank,\\\n",
    "luh,gah,kah,rss'.split(',')"
   ]
  },
  {
   "cell_type": "code",
   "execution_count": 291,
   "metadata": {},
   "outputs": [
    {
     "name": "stdout",
     "output_type": "stream",
     "text": [
      "Located all 400 keywords.\n",
      "Selected 20206 clue words, clue vectors size is 7.7Mb.\n",
      "CPU times: user 1min 45s, sys: 1.23 s, total: 1min 46s\n",
      "Wall time: 21.8 s\n"
     ]
    }
   ],
   "source": [
    "def load(threshold=10, minfreq=50, filename='glove.6B/glove.6B.{ndim}d.txt', keywords=K, freqs=F2, ndim=100):\n",
    "\n",
    "    # First pass to load the vectors of all keywords.\n",
    "    nkeys = len(keywords)\n",
    "    keyvecs = np.empty((nkeys, ndim), np.float32)\n",
    "    missing = list(keywords)\n",
    "    filename = filename.format(ndim=ndim)\n",
    "    with GloveBox(filename, ndim) as gb:\n",
    "        for line in gb.lines():\n",
    "            try:\n",
    "                i = keywords.index(line.word)\n",
    "                keyvecs[i] = line.vec\n",
    "                missing.remove(line.word)\n",
    "            except ValueError:\n",
    "                continue\n",
    "    if missing:\n",
    "        print(f'Missing {len(missing)} keywords: {\", \".join(missing)}.')\n",
    "        return\n",
    "    print(f'Located all {len(keywords)} keywords.')\n",
    "    \n",
    "    # Lemmatize all keywords.\n",
    "    keylemmas = set([wnl.lemmatize(word) for word in keywords])\n",
    "    \n",
    "    # Keep track of clue lemmas.\n",
    "    cluelemmas = []\n",
    "\n",
    "    # Define a valid clue\n",
    "    def valid_clue(clue):\n",
    "        # Reject stop words.\n",
    "        if clue in stopwords:\n",
    "            return False\n",
    "        # Reject words on our veto list.\n",
    "        if clue in vetos:\n",
    "            return False\n",
    "        # Reject clues based on their part of speech\n",
    "        pos = nltk.pos_tag([clue], tagset='universal')[0][1]\n",
    "        if pos in ('ADP', 'CONJ', 'DET', 'PRT', 'PRON'):\n",
    "            return False\n",
    "        # Reject clues that are strictly containing or contained within any keyword\n",
    "        for keyword in keywords:\n",
    "            if (clue in keyword) or (keyword in clue):\n",
    "                return False\n",
    "        # Reject clues that have the same lemma as any keyword\n",
    "        lemma = wnl.lemmatize(clue)\n",
    "        if lemma in keylemmas:\n",
    "            return False\n",
    "        # Reject clues with the same lemma as a previous clue.\n",
    "        if lemma in cluelemmas:\n",
    "            return False\n",
    "        # Remember this clue lemma.\n",
    "        cluelemmas.append(lemma)\n",
    "        return True\n",
    "\n",
    "    # Second pass to measure keyword similarity of all possible clues.\n",
    "    wordpat = re.compile('^[a-z]+$')\n",
    "    cluewords, cluevecs = [], []\n",
    "    with GloveBox(filename, ndim) as gb:\n",
    "        for i, line in enumerate(gb.lines()):\n",
    "            if line.word not in freqs or freqs[line.word] < minfreq:\n",
    "                continue\n",
    "            if not wordpat.match(line.word):\n",
    "                continue\n",
    "            # Calculate the log(prob) of this word co-ocurring with each keyword.\n",
    "            logprobs = keyvecs.dot(line.vec)\n",
    "            # Cut on the largest log(prob)\n",
    "            if logprobs.max() < threshold:\n",
    "                continue\n",
    "            # Check that this clue is valid for all keywords.\n",
    "            # We could relax this since a clue only needs to be valid for the keywords visible in a game\n",
    "            # but that would add complexity in the game client.\n",
    "            if not valid_clue(line.word):\n",
    "                continue\n",
    "            cluewords.append(line.word)\n",
    "            cluevecs.append(line.vec)\n",
    "    cluevecs = np.vstack(cluevecs)\n",
    "    print(f'Selected {len(cluewords)} clue words, clue vectors size is {cluevecs.nbytes / (1<<20):.1f}Mb.')\n",
    "    return cluewords, cluevecs, keyvecs\n",
    "\n",
    "%time C,CV,KV = load()"
   ]
  },
  {
   "cell_type": "code",
   "execution_count": 293,
   "metadata": {},
   "outputs": [],
   "source": [
    "def save(cluewords, cluevecs, keywords, keyvecs, basename=''):\n",
    "    for (name,words,vecs) in (('clue',cluewords,cluevecs), ('key', keywords, keyvecs)):\n",
    "        with open(basename + name + 'words.txt', 'w') as out:\n",
    "            print('\\n'.join(words), file=out)\n",
    "        with open(basename + name + 'vecs.data', 'wb') as out:\n",
    "            vecs.tofile(out)\n",
    "        #pavecs = pa.Tensor.from_numpy(vecs)\n",
    "        #with pa.OSFile(basename + name + 'vecs.arrow', 'wb') as sink:\n",
    "        #    pa.ipc.write_tensor(pavecs, sink)\n",
    "\n",
    "save(C, CV, K, KV)"
   ]
  },
  {
   "cell_type": "code",
   "execution_count": 93,
   "metadata": {},
   "outputs": [],
   "source": [
    "def get_keyword_index(keyword, K):\n",
    "    try:\n",
    "        return K.index(keyword.lower())\n",
    "    except ValueError:\n",
    "        raise ValueError(f'{keyword} is not a keyword.')"
   ]
  },
  {
   "cell_type": "code",
   "execution_count": 94,
   "metadata": {},
   "outputs": [],
   "source": [
    "def invalid_clue(clue, keywords):\n",
    "    for keyword in keywords:\n",
    "        if (clue in keyword) or (keyword in clue):\n",
    "            return True\n",
    "    return False"
   ]
  },
  {
   "cell_type": "code",
   "execution_count": 103,
   "metadata": {},
   "outputs": [],
   "source": [
    "def vecsim(V1, V2):\n",
    "    # Calculate the N1 x N2 matrix of similarities between vectors V1 with shape (N1,D) and V2 with shape (N2,D).\n",
    "    return np.dot(V1, V2.T)\n",
    "    #dot /= np.sqrt(np.dot(V1, V1.T) * np.dot(V2, V2.T))"
   ]
  },
  {
   "cell_type": "code",
   "execution_count": 295,
   "metadata": {},
   "outputs": [
    {
     "data": {
      "text/plain": [
       "[('artillery', 14.416401863098145),\n",
       " ('reconnaissance', 13.789243698120117),\n",
       " ('expeditionary', 13.559124946594238)]"
      ]
     },
     "execution_count": 295,
     "metadata": {},
     "output_type": "execute_result"
    }
   ],
   "source": [
    "def get_clues(groups, C, K, CV, KV, nbest=3, weights=[1, -1, -1, -1]):\n",
    "    \n",
    "    tags = ('selected', 'neutral', 'avoid', 'assasin')\n",
    "    ngroups = len(tags)\n",
    "    if len(groups) != ngroups:\n",
    "        raise ValueError(f'Expected {len(tags)} groups.')\n",
    "    \n",
    "    # Find indexes of each keyword\n",
    "    groups = [[get_keyword_index(keyword, K) for keyword in group] for group in groups]\n",
    "    \n",
    "    # Check for non-overlapping groups.\n",
    "    all_groups = set()\n",
    "    for i1, group1 in enumerate(groups):\n",
    "        set1 = set(group1)\n",
    "        if len(set1) != len(group1):\n",
    "            raise ValueError(f'\"{tags[i1]}\" group has duplicate keyword.')\n",
    "        all_groups |= set1\n",
    "        for i2, group2 in enumerate(groups[i1+1:]):\n",
    "            set2 = set(group2)\n",
    "            if set1 & set2:\n",
    "                raise ValueError(f'\"{tags[i1]}\" and \"{tags[i1+i2+1]}\" groups overlap.')\n",
    "    all_groups = [K[i] for i in all_groups]\n",
    "\n",
    "    similarity = np.zeros((ngroups, len(C)))\n",
    "\n",
    "    # Calculate the joint similarity of the \"selected\" group for all possible clues.\n",
    "    similarity[0] = vecsim(CV, KV[groups[0]]).sum(axis=1)\n",
    "\n",
    "    # Calculate the maximum similarity to any single word in the other groups.\n",
    "    for i in range(1, ngroups):\n",
    "        similarity[i] = np.max(vecsim(CV, KV[groups[i]]), axis=1, initial=0)\n",
    "    \n",
    "    # Calculate the overall weighted score for all possible clues.\n",
    "    score = np.dot(weights, similarity)\n",
    "    \n",
    "    # Find the clues with the highest score.\n",
    "    order = np.argsort(score)[::-1]    \n",
    "    best = []\n",
    "    for i in order[:nbest]:\n",
    "        best.append((C[i], score[i]))\n",
    "    return best\n",
    "\n",
    "get_clues((K[2:3], (), K[10:20], ()), C, K, CV, KV)"
   ]
  },
  {
   "cell_type": "markdown",
   "metadata": {},
   "source": [
    "Manually scan the top-3 matches for each keyword to build a list of clues to veto (above), e.g. \"centre\" for \"center\"."
   ]
  },
  {
   "cell_type": "code",
   "execution_count": 296,
   "metadata": {},
   "outputs": [
    {
     "name": "stdout",
     "output_type": "stream",
     "text": [
      "AFRICA      : south              asia               nations           \n",
      "AGENT       : fbi                manager            cia               \n",
      "AIR         : military           squadron           artillery         \n",
      "ALIEN       : extraterrestrial   creatures          evil              \n",
      "ALPS        : pyrenees           slopes             ski               \n",
      "AMAZON      : itunes             ebay               microsoft         \n",
      "AMBULANCE   : paramedics         bus                wounded           \n",
      "AMERICA     : world              united             asia              \n",
      "ANTARCTICA  : glacier            expedition         mapped            \n",
      "APPLE       : microsoft          intel              iphone            \n",
      "ARM         : shoulder           leg                right             \n",
      "ATLANTIS    : shuttle            astronauts         endeavour         \n",
      "AUSTRALIA   : zealand            britain            wales             \n",
      "AZTEC       : inca               mayan              vedic             \n",
      "BACK        : away               get                left              \n",
      "BALL        : kick               scored             goalkeeper        \n",
      "BAND        : album              song               music             \n",
      "BANK        : investment         financial          credit            \n",
      "BAR         : restaurant         cafe               house             \n",
      "BARK        : insects            twigs              tree              \n",
      "BARLEY      : wheat              maize              oats              \n",
      "BAT         : innings            toss               wickets           \n",
      "BATTERY     : electric           artillery          regiment          \n",
      "BEACH       : island             resort             bay               \n",
      "BEAR        : deer               stearns            species           \n",
      "BEAT        : seeded             defeated           scored            \n",
      "BED         : room               sleep              kitchen           \n",
      "BEIJING     : taiwan             shanghai           taipei            \n",
      "BELL        : thomas             blue               wireless          \n",
      "BELT        : detonated          explosives         diameter          \n",
      "BERLIN      : munich             vienna             frankfurt         \n",
      "BERMUDA     : cayman             coast              tropical          \n",
      "BERRY       : cherry             fruit              peach             \n",
      "BILL        : legislation        senate             amendment         \n",
      "BLOCK       : building           house              floor             \n",
      "BOARD       : commission         committee          council           \n",
      "BOLT        : usain              freestyle          screw             \n",
      "BOMB        : explosives         detonated          blast             \n",
      "BOND        : benchmark          treasury           rates             \n",
      "BOOM        : recession          bubble             economy           \n",
      "BOOT        : ankle              floppy             leather           \n",
      "BOSTON      : york               chicago            philadelphia      \n",
      "BOTTLE      : beer               drink              wine              \n",
      "BOW         : torpedo            roof               neck              \n",
      "BOX         : room               dvd                cd                \n",
      "BRIDGE      : river              road               railway           \n",
      "BRUSH       : dry                scrub              spray             \n",
      "BUCK        : bob                joe                mike              \n",
      "BUFFALO     : edmonton           philadelphia       minnesota         \n",
      "BUG         : virus              leopard            mosquito          \n",
      "BUGLE       : brite              trombone           woogie            \n",
      "BUTTON      : click              driver             brawn             \n",
      "CALF        : ankle              knee               thigh             \n",
      "CANADA      : zealand            britain            united            \n",
      "CAP         : blue               salary             deficit           \n",
      "CAPITAL     : city               government         province          \n",
      "CAR         : truck              driver             vehicles          \n",
      "CARD        : debit              phone              computer          \n",
      "CAREGIVER   : spouse             breadwinner        therapist         \n",
      "CARROT      : celery             onion              garlic            \n",
      "CASINO      : gambling           gaming             resort            \n",
      "CAST        : actor              actress            show              \n",
      "CAT         : pet                bird               baby              \n",
      "CELL        : brain              tissue             dna               \n",
      "CENTAUR     : cygnus             perseus            polaris           \n",
      "CENTER      : university         research           institute         \n",
      "CHAIR       : floor              committee          room              \n",
      "CHANGE      : would              economic           could             \n",
      "CHARGE      : government         guilty             criminal          \n",
      "CHECK       : get                information        data              \n",
      "CHEST       : neck               stomach            shoulder          \n",
      "CHICK       : bee                dolly              peas              \n",
      "CHINA       : taiwan             korea              hong              \n",
      "CHOCOLATE   : cream              cheese             butter            \n",
      "CHURCH      : parish             chapel             orthodox          \n",
      "CIRCLE      : diameter           inner              length            \n",
      "CLIFF       : stone              limestone          canyon            \n",
      "CLOAK       : robes              veil               turban            \n",
      "CLUB        : league             team               soccer            \n",
      "CODE        : system             rules              laws              \n",
      "COLD        : dry                weather            winter            \n",
      "COMIC       : fiction            character          animated          \n",
      "COMPOUND    : mosque             ramallah           baghdad           \n",
      "CONCERT     : music              festival           album             \n",
      "CONDOR      : voyager            iwo                nebula            \n",
      "CONDUCTOR   : composer           violinist          pianist           \n",
      "CONTRACT    : agreement          deal               signed            \n",
      "COOK        : simmer             sauce              oven              \n",
      "COPPER      : zinc               aluminium          nickel            \n",
      "COTTON      : wheat              wool               maize             \n",
      "COURT       : judge              supreme            trial             \n",
      "COVER       : cut                album              material          \n",
      "CRANE       : steel              boat               wooden            \n",
      "CRASH       : accident           explosion          collision         \n",
      "CRICKET     : rugby              indies             cup               \n",
      "CROSS       : border             international      side              \n",
      "CROWN       : grand              throne             title             \n",
      "CYCLE       : process            phase              period            \n",
      "CZECH       : slovakia           poland             republic          \n",
      "DANCE       : music              song               singing           \n",
      "DATE        : june               july               year              \n",
      "DAY         : year               week               morning           \n",
      "DEATH       : killed             murder             father            \n",
      "DECK        : roof               rear               floor             \n",
      "DEGREE      : bachelor           university         graduate          \n",
      "DEMON       : evil               god                serpent           \n",
      "DIAMOND     : platinum           silver             necklace          \n",
      "DINOSAUR    : fossil             jurassic           cretaceous        \n",
      "DISEASE     : virus              cancer             infection         \n",
      "DOCTOR      : medical            surgery            physician         \n",
      "DOG         : pet                meat               animals           \n",
      "DRAFT       : nfl                league             nba               \n",
      "DRAGON      : sword              lantern            snake             \n",
      "DRESS       : gown               wear               clothes           \n",
      "DRILL       : nuclear            reactor            sonar             \n",
      "DROP        : percent            rise               quarter           \n",
      "DUCK        : meat               deer               lame              \n",
      "DWARF       : species            constellation      genus             \n",
      "EAGLE       : birdie             putt               bogey             \n",
      "EGYPT       : syria              israel             arabia            \n",
      "EMBASSY     : consulate          ambassador         diplomatic        \n",
      "ENGINE      : cylinder           turbine            diesel            \n",
      "ENGLAND     : wales              scotland           ireland           \n",
      "EUROPE      : world              asia               russia            \n",
      "EYE         : skin               brain              nose              \n",
      "FACE        : could              would              tough             \n",
      "FAIR        : good               international      election          \n",
      "FALL        : percent            year               rise              \n",
      "FAN         : coach              song               fame              \n",
      "FENCE       : border             perimeter          wire              \n",
      "FIELD       : team               first              base              \n",
      "FIGHTER     : squadron           reconnaissance     commander         \n",
      "FIGURE      : year               percent            record            \n",
      "FILE        : documents          microsoft          data              \n",
      "FILM        : movie              drama              directed          \n",
      "FIRE        : killed             artillery          explosion         \n",
      "FISH        : species            shrimp             meat              \n",
      "FLUTE       : violin             oboe               saxophone         \n",
      "FLY         : landing            hit                could             \n",
      "FOOT        : knee               meters             leg               \n",
      "FORCE       : military           troops             nato              \n",
      "FOREST      : habitat            vegetation         acres             \n",
      "FORK        : creek              river              tributary         \n",
      "FRANCE      : spain              paris              britain           \n",
      "GAME        : season             league             team              \n",
      "GAS         : fuel               energy             coal              \n",
      "GENIUS      : talent             character          evil              \n",
      "GERMANY     : poland             austria            italy             \n",
      "GHOST       : movie              vampire            haunted           \n",
      "GIANT       : maker              conglomerate       largest           \n",
      "GLASS       : metal              steel              stone             \n",
      "GLOVE       : shortstop          baseman            goalie            \n",
      "GOLD        : silver             bronze             medal             \n",
      "GRACE       : mary               god                divine            \n",
      "GRASS       : tree               lawn               vegetation        \n",
      "GREECE      : russia             italy              estonia           \n",
      "GREEN       : red                white              blue              \n",
      "GROUND      : area               troops             base              \n",
      "HAM         : everton            middlesbrough      wigan             \n",
      "HAND        : right              could              get               \n",
      "HAWK        : unmanned           harrier            apache            \n",
      "HEAD        : chief              president          former            \n",
      "HEART       : cancer             surgery            brain             \n",
      "HELICOPTER  : reconnaissance     rescue             patrol            \n",
      "HIMALAYAS   : slopes             ghats              nepal             \n",
      "HOLE        : birdie             putt               bogey             \n",
      "HOLLYWOOD   : movie              broadway           entertainment     \n",
      "HONEY       : vinegar            butter             cinnamon          \n",
      "HOOD        : gah                fort               kah               \n",
      "HOOK        : kick               buzzer             hit               \n",
      "HORN        : guitar             oboe               percussion        \n",
      "HORSE       : thoroughbred       racing             riding            \n",
      "HORSESHOE   : crab               rattlesnake        triangular        \n",
      "HOSPITAL    : medical            clinic             surgery           \n",
      "HOTEL       : restaurant         resort             luxury            \n",
      "ICE         : cream              skating            winter            \n",
      "INDIA       : pakistan           lanka              bangladesh        \n",
      "IRON        : steel              metal              coal              \n",
      "IVORY       : liberia            congo              leone             \n",
      "JACK        : john               bob                jim               \n",
      "JAM         : album              song               music             \n",
      "JEDI        : sith               kenobi             darth             \n",
      "JET         : boeing             fuel               supersonic        \n",
      "JUPITER     : orbiting           orbit              mars              \n",
      "KANGAROO    : deer               sheep              snake             \n",
      "KETCHUP     : mayonnaise         sauce              vinegar           \n",
      "KEY         : economic           crucial            major             \n",
      "KID         : girl               boy                guy               \n",
      "KING        : emperor            throne             father            \n",
      "KIWI        : skipper            aussie             qantas            \n",
      "KNIFE       : blade              gun                neck              \n",
      "KNIGHT      : lord               william            chevalier         \n",
      "LAB         : research           computer           researchers       \n",
      "LAP         : schumacher         mph                ferrari           \n",
      "LASER       : infrared           radiation          imaging           \n",
      "LAWYER      : attorney           judge              counsel           \n",
      "LEAD        : victory            goal               second            \n",
      "LEMON       : teaspoon           lime               sauce             \n",
      "LIFE        : children           people             family            \n",
      "LIGHT       : dark               blue               heavy             \n",
      "LIGHTSABER  : skywalker          vader              darth             \n",
      "LIMOUSINE   : motorcade          hearse             jeep              \n",
      "LINE        : railway            station            north             \n",
      "LINK        : information        access             connection        \n",
      "LION        : leopard            elephant           tiger             \n",
      "LITTER      : garbage            strewn             trash             \n",
      "LOCK        : rear               prop               brakes            \n",
      "LOG         : wooden             cabin              data              \n",
      "LONDON      : paris              york               sydney            \n",
      "LUCK        : good               really             bad               \n",
      "MAIL        : phone              fax                telegram          \n",
      "MAMMOTH     : woolly             largest            skeleton          \n",
      "MAPLE       : spruce             canadiens          elm               \n",
      "MARBLE      : granite            limestone          brick             \n",
      "MARCH       : july               june               december          \n",
      "MARINER     : explorer           odyssey            unix              \n",
      "MASS        : atomic             nuclear            weapons           \n",
      "MATCH       : cup                tournament         final             \n",
      "MERCURY     : dioxide            cadmium            radiation         \n",
      "MERINGUE    : frosting           bake               cake              \n",
      "MEXICO      : brazil             argentina          venezuela         \n",
      "MICROSCOPE  : electron           imaging            scanning          \n",
      "MILLIONAIRE : tycoon             financier          businessman       \n",
      "MINE        : coal               explosion          accident          \n",
      "MINT        : cilantro           garnish            sauce             \n",
      "MISSILE     : nuclear            weapons            scud              \n",
      "MODEL       : design             version            hybrid            \n",
      "MOLE        : shrew              sauce              snake             \n",
      "MOON        : mars               earth              lunar             \n",
      "MOSCOW      : russia             russian            kremlin           \n",
      "MOUNT       : everest            fort               north             \n",
      "MOUSE       : brain              cursor             genome            \n",
      "MOUTH       : skin               river              tongue            \n",
      "MUG         : cans               spray              photos            \n",
      "NAIL        : metal              paint              glue              \n",
      "NEEDLE      : hypodermic         thread             stent             \n",
      "NET         : profit             revenue            earnings          \n",
      "NIGHT       : morning            evening            hours             \n",
      "NINJA       : mutant             samurai            mascot            \n",
      "NOTE        : letter             words              index             \n",
      "NOVEL       : fiction            book               story             \n",
      "NURSE       : medical            mother             surgeon           \n",
      "NUT         : betel              cashew             macadamia         \n",
      "OCTOPUS     : squid              crab               shrimp            \n",
      "OIL         : crude              petroleum          fuel              \n",
      "OLIVE       : garlic             teaspoon           onion             \n",
      "OLYMPUS     : nikon              zoom               leica             \n",
      "OPERA       : music              symphony           composer          \n",
      "ORANGE      : yellow             blue               red               \n",
      "ORGAN       : liver              transplant         tissue            \n",
      "PALM        : tree               florida            california        \n",
      "PAN         : saute              skillet            oven              \n",
      "PANTS       : trousers           shirt              slacks            \n",
      "PAPER       : published          printing           printed           \n",
      "PARACHUTE   : regiment           brigade            cavalry           \n",
      "PARK        : county             lake               road              \n",
      "PART        : would              new                first             \n",
      "PASS        : touchdown          kick               goal              \n",
      "PASTE       : sauce              puree              teaspoon          \n",
      "PENGUIN     : bantam             nast               hyperion          \n",
      "PHOENIX     : angeles            dallas             anaheim           \n",
      "PIANO       : violin             guitar             music             \n",
      "PIE         : cake               dough              sauce             \n",
      "PILOT       : crew               landing            squadron          \n",
      "PIN         : tee                kah                birdie            \n",
      "PIPE        : metal              ruptured           steel             \n",
      "PIRATE      : somali             qaeda              boat              \n",
      "PISTOL      : rifle              caliber            semiautomatic     \n",
      "PIT         : shaft              dirt               coal              \n",
      "PITCH       : innings            hitter             yankees           \n",
      "PLANE       : crew               shuttle            landing           \n",
      "PLASTIC     : metal              rubber             bag               \n",
      "PLATE       : tectonic           bottom             garnish           \n",
      "PLATYPUS    : shrew              cloned             chel              \n",
      "PLAY        : season             team               tournament        \n",
      "PLOT        : terrorist          conspiracy         story             \n",
      "POINT       : goal               second             percent           \n",
      "POISON      : toxic              cyanide            kill              \n",
      "POLE        : prix               slalom             schumacher        \n",
      "POLICE      : killed             arrested           security          \n",
      "POOL        : swimming           room               cup               \n",
      "PORT        : city               coast              town              \n",
      "POST        : news               daily              new               \n",
      "POUND       : cents              ounce              francs            \n",
      "PRESS       : news               told               media             \n",
      "PRINCESS    : duchess            daughter           wife              \n",
      "PUMPKIN     : butter             cake               onion             \n",
      "PUPIL       : tuition            faculty            students          \n",
      "PYRAMID     : ponzi              giza               cheops            \n",
      "QUEEN       : royal              lady               daughter          \n",
      "RABBIT      : bunny              deer               squirrel          \n",
      "RACKET      : tennis             extortion          fraud             \n",
      "REVOLUTION  : democracy          uprising           soviet            \n",
      "RING        : wire               metal              drug              \n",
      "ROBOT       : humanoid           animated           computer          \n",
      "ROCK        : album              music              pop               \n",
      "ROLL        : music              pop                album             \n",
      "ROME        : paris              italy              milan             \n",
      "ROOT        : teaspoon           stem               tree              \n",
      "ROSE        : fell               cents              index             \n",
      "ROULETTE    : craps              poker              chess             \n",
      "ROUND       : final              tournament         cup               \n",
      "ROW         : four               fourth             two               \n",
      "RULER       : emperor            dictator           dynasty           \n",
      "SATELLITE   : radar              radio              channel           \n",
      "SATURN      : orbit              sega               uranus            \n",
      "SCALE       : magnitude          earthquake         large             \n",
      "SCHOOL      : college            university         students          \n",
      "SCIENTIST   : physicist          professor          research          \n",
      "SCORPION    : snake              venom              leopard           \n",
      "SCREEN      : camera             video              movie             \n",
      "SEAL        : red                yellow             coat              \n",
      "SERVER      : desktop            linux              microsoft         \n",
      "SHADOW      : dark               evil               cloud             \n",
      "SHAKESPEARE : poetry             poem               mozart            \n",
      "SHARK       : species            tuna               bird              \n",
      "SHETLAND    : orkney             sumatra            lantau            \n",
      "SHIP        : vessel             boat               navy              \n",
      "SHOE        : leather            clothing           apparel           \n",
      "SHOP        : store              restaurant         grocery           \n",
      "SHOT        : killed             hit                scored            \n",
      "SINK        : drain              bottom             sunk              \n",
      "SKYSCRAPER  : tallest            building           downtown          \n",
      "SLIP        : wickets            leg                fell              \n",
      "SLUG        : typo               corrects           eds               \n",
      "SMUGGLER    : traffickers        heroin             cocaine           \n",
      "SNOW        : weather            rains              winter            \n",
      "SNOWMAN     : abominable         frosty             reindeer          \n",
      "SOCK        : underwear          cord               doo               \n",
      "SOLDIER     : wounded            killed             troops            \n",
      "SOUL        : album              song               pop               \n",
      "SOUND       : music              acoustic           guitar            \n",
      "SPACE       : shuttle            nasa               orbit             \n",
      "SPELL       : season             innings            overs             \n",
      "SPIDER      : genus              snake              species           \n",
      "SPIKE       : inflation          crude              rising            \n",
      "SPINE       : vertebrae          bone               abdominal         \n",
      "SPOT        : place              season             second            \n",
      "SPRING      : winter             summer             season            \n",
      "SPY         : espionage          cia                intelligence      \n",
      "SQUARE      : meters             kilometers         miles             \n",
      "STADIUM     : arena              wembley            coliseum          \n",
      "STAFF       : employees          personnel          chief             \n",
      "STAR        : actress            movie              actor             \n",
      "STATE       : federal            government         national          \n",
      "STICK       : butter             hard               want              \n",
      "STOCK       : shares             index              market            \n",
      "STREAM      : river              flow               flowing           \n",
      "STRIKE      : workers            walkout            protest           \n",
      "STRING      : series             two                four              \n",
      "SUB         : asia               index              region            \n",
      "SUIT        : case               white              shirt             \n",
      "SUPERHERO   : marvel             superman           supervillain      \n",
      "SWING       : voters             rhythm             hit               \n",
      "SWITCH      : system             cable              get               \n",
      "TABLE       : cup                room               side              \n",
      "TABLET      : smartphones        ipad               android           \n",
      "TAG         : wrestling          title              heavyweight       \n",
      "TAIL        : snout              feathers           fuselage          \n",
      "TAP         : help               users              buy               \n",
      "TEACHER     : students           college            graduate          \n",
      "TELESCOPE   : hubble             observatory        infrared          \n",
      "TEMPLE      : mosque             shrine             hindu             \n",
      "THEATER     : broadway           cinema             movie             \n",
      "THIEF       : murderer           liar               robbers           \n",
      "THUMB       : sprained           wrist              knee              \n",
      "TICK        : bite               mosquito           deer              \n",
      "TIE         : victory            cup                final             \n",
      "TIME        : year               first              world             \n",
      "TOKYO       : yen                nikkei             osaka             \n",
      "TOOTH       : bone               skin               skull             \n",
      "TORCH       : relay              olympic            olympics          \n",
      "TOWER       : building           tallest            roof              \n",
      "TRACK       : record             speed              album             \n",
      "TRAIN       : bus                commuter           rail              \n",
      "TRIANGLE    : loop               axis               triangular        \n",
      "TRIP        : visit              tour               travel            \n",
      "TRUNK       : diameter           railway            rail              \n",
      "TUBE        : valve              tissue             diameter          \n",
      "TURKEY      : russia             iran               israel            \n",
      "UNICORN     : serpent            mongoose           leopard           \n",
      "VACUUM      : liquid             combustion         fluid             \n",
      "VAN         : den                martin             paul              \n",
      "VET         : dentist            dental             nih               \n",
      "WAKE        : crisis             worst              week              \n",
      "WALL        : street             investors          market            \n",
      "WAR         : military           troops             iraq              \n",
      "WASHER      : dryer              faucet             detergent         \n",
      "WASHINGTON  : bush               york               united            \n",
      "WATCH       : think              want               news              \n",
      "WATER       : river              salt               sewage            \n",
      "WAVE        : violence           violent            storm             \n",
      "WEB         : computer           users              google            \n",
      "WELL        : two                could              good              \n",
      "WHALE       : minke              tuna               species           \n",
      "WHIP        : republican         caucus             speaker           \n",
      "WIND        : gusts              weather            storm             \n",
      "WITCH       : vampire            evil               frankenstein      \n",
      "WORM        : virus              parasite           infected          \n",
      "YARD        : bay                station            railway           \n"
     ]
    }
   ],
   "source": [
    "def scan():\n",
    "    for i in range(len(K)):\n",
    "        rest = list(K)\n",
    "        rest.remove(K[i])\n",
    "        groups = (K[i:i+1], (), (), ())\n",
    "        clues = [f'{clue[0]:18s}' for clue in get_clues(groups, C, K, CV, KV)]\n",
    "        print(f'{K[i].upper():11s} : {\" \".join(clues)}')\n",
    "\n",
    "scan()"
   ]
  },
  {
   "cell_type": "code",
   "execution_count": null,
   "metadata": {},
   "outputs": [],
   "source": []
  }
 ],
 "metadata": {
  "kernelspec": {
   "display_name": "Python 3",
   "language": "python",
   "name": "python3"
  },
  "language_info": {
   "codemirror_mode": {
    "name": "ipython",
    "version": 3
   },
   "file_extension": ".py",
   "mimetype": "text/x-python",
   "name": "python",
   "nbconvert_exporter": "python",
   "pygments_lexer": "ipython3",
   "version": "3.8.5"
  }
 },
 "nbformat": 4,
 "nbformat_minor": 4
}
